{
 "cells": [
  {
   "cell_type": "code",
   "execution_count": 459,
   "metadata": {},
   "outputs": [],
   "source": [
    "%reload_ext autoreload"
   ]
  },
  {
   "cell_type": "code",
   "execution_count": 460,
   "metadata": {
    "scrolled": true
   },
   "outputs": [],
   "source": [
    "%autoreload"
   ]
  },
  {
   "cell_type": "code",
   "execution_count": 461,
   "metadata": {},
   "outputs": [],
   "source": [
    "import pandas as pd"
   ]
  },
  {
   "cell_type": "code",
   "execution_count": 462,
   "metadata": {},
   "outputs": [],
   "source": [
    "df = pd.read_csv('housepricedata.csv')"
   ]
  },
  {
   "cell_type": "code",
   "execution_count": 463,
   "metadata": {},
   "outputs": [
    {
     "data": {
      "text/html": [
       "<div>\n",
       "<style scoped>\n",
       "    .dataframe tbody tr th:only-of-type {\n",
       "        vertical-align: middle;\n",
       "    }\n",
       "\n",
       "    .dataframe tbody tr th {\n",
       "        vertical-align: top;\n",
       "    }\n",
       "\n",
       "    .dataframe thead th {\n",
       "        text-align: right;\n",
       "    }\n",
       "</style>\n",
       "<table border=\"1\" class=\"dataframe\">\n",
       "  <thead>\n",
       "    <tr style=\"text-align: right;\">\n",
       "      <th></th>\n",
       "      <th>LotArea</th>\n",
       "      <th>OverallQual</th>\n",
       "      <th>OverallCond</th>\n",
       "      <th>TotalBsmtSF</th>\n",
       "      <th>FullBath</th>\n",
       "      <th>HalfBath</th>\n",
       "      <th>BedroomAbvGr</th>\n",
       "      <th>TotRmsAbvGrd</th>\n",
       "      <th>Fireplaces</th>\n",
       "      <th>GarageArea</th>\n",
       "      <th>AboveMedianPrice</th>\n",
       "    </tr>\n",
       "  </thead>\n",
       "  <tbody>\n",
       "    <tr>\n",
       "      <th>0</th>\n",
       "      <td>8450</td>\n",
       "      <td>7</td>\n",
       "      <td>5</td>\n",
       "      <td>856</td>\n",
       "      <td>2</td>\n",
       "      <td>1</td>\n",
       "      <td>3</td>\n",
       "      <td>8</td>\n",
       "      <td>0</td>\n",
       "      <td>548</td>\n",
       "      <td>1</td>\n",
       "    </tr>\n",
       "    <tr>\n",
       "      <th>1</th>\n",
       "      <td>9600</td>\n",
       "      <td>6</td>\n",
       "      <td>8</td>\n",
       "      <td>1262</td>\n",
       "      <td>2</td>\n",
       "      <td>0</td>\n",
       "      <td>3</td>\n",
       "      <td>6</td>\n",
       "      <td>1</td>\n",
       "      <td>460</td>\n",
       "      <td>1</td>\n",
       "    </tr>\n",
       "    <tr>\n",
       "      <th>2</th>\n",
       "      <td>11250</td>\n",
       "      <td>7</td>\n",
       "      <td>5</td>\n",
       "      <td>920</td>\n",
       "      <td>2</td>\n",
       "      <td>1</td>\n",
       "      <td>3</td>\n",
       "      <td>6</td>\n",
       "      <td>1</td>\n",
       "      <td>608</td>\n",
       "      <td>1</td>\n",
       "    </tr>\n",
       "    <tr>\n",
       "      <th>3</th>\n",
       "      <td>9550</td>\n",
       "      <td>7</td>\n",
       "      <td>5</td>\n",
       "      <td>756</td>\n",
       "      <td>1</td>\n",
       "      <td>0</td>\n",
       "      <td>3</td>\n",
       "      <td>7</td>\n",
       "      <td>1</td>\n",
       "      <td>642</td>\n",
       "      <td>0</td>\n",
       "    </tr>\n",
       "    <tr>\n",
       "      <th>4</th>\n",
       "      <td>14260</td>\n",
       "      <td>8</td>\n",
       "      <td>5</td>\n",
       "      <td>1145</td>\n",
       "      <td>2</td>\n",
       "      <td>1</td>\n",
       "      <td>4</td>\n",
       "      <td>9</td>\n",
       "      <td>1</td>\n",
       "      <td>836</td>\n",
       "      <td>1</td>\n",
       "    </tr>\n",
       "    <tr>\n",
       "      <th>...</th>\n",
       "      <td>...</td>\n",
       "      <td>...</td>\n",
       "      <td>...</td>\n",
       "      <td>...</td>\n",
       "      <td>...</td>\n",
       "      <td>...</td>\n",
       "      <td>...</td>\n",
       "      <td>...</td>\n",
       "      <td>...</td>\n",
       "      <td>...</td>\n",
       "      <td>...</td>\n",
       "    </tr>\n",
       "    <tr>\n",
       "      <th>1455</th>\n",
       "      <td>7917</td>\n",
       "      <td>6</td>\n",
       "      <td>5</td>\n",
       "      <td>953</td>\n",
       "      <td>2</td>\n",
       "      <td>1</td>\n",
       "      <td>3</td>\n",
       "      <td>7</td>\n",
       "      <td>1</td>\n",
       "      <td>460</td>\n",
       "      <td>1</td>\n",
       "    </tr>\n",
       "    <tr>\n",
       "      <th>1456</th>\n",
       "      <td>13175</td>\n",
       "      <td>6</td>\n",
       "      <td>6</td>\n",
       "      <td>1542</td>\n",
       "      <td>2</td>\n",
       "      <td>0</td>\n",
       "      <td>3</td>\n",
       "      <td>7</td>\n",
       "      <td>2</td>\n",
       "      <td>500</td>\n",
       "      <td>1</td>\n",
       "    </tr>\n",
       "    <tr>\n",
       "      <th>1457</th>\n",
       "      <td>9042</td>\n",
       "      <td>7</td>\n",
       "      <td>9</td>\n",
       "      <td>1152</td>\n",
       "      <td>2</td>\n",
       "      <td>0</td>\n",
       "      <td>4</td>\n",
       "      <td>9</td>\n",
       "      <td>2</td>\n",
       "      <td>252</td>\n",
       "      <td>1</td>\n",
       "    </tr>\n",
       "    <tr>\n",
       "      <th>1458</th>\n",
       "      <td>9717</td>\n",
       "      <td>5</td>\n",
       "      <td>6</td>\n",
       "      <td>1078</td>\n",
       "      <td>1</td>\n",
       "      <td>0</td>\n",
       "      <td>2</td>\n",
       "      <td>5</td>\n",
       "      <td>0</td>\n",
       "      <td>240</td>\n",
       "      <td>0</td>\n",
       "    </tr>\n",
       "    <tr>\n",
       "      <th>1459</th>\n",
       "      <td>9937</td>\n",
       "      <td>5</td>\n",
       "      <td>6</td>\n",
       "      <td>1256</td>\n",
       "      <td>1</td>\n",
       "      <td>1</td>\n",
       "      <td>3</td>\n",
       "      <td>6</td>\n",
       "      <td>0</td>\n",
       "      <td>276</td>\n",
       "      <td>0</td>\n",
       "    </tr>\n",
       "  </tbody>\n",
       "</table>\n",
       "<p>1460 rows × 11 columns</p>\n",
       "</div>"
      ],
      "text/plain": [
       "      LotArea  OverallQual  OverallCond  TotalBsmtSF  FullBath  HalfBath  \\\n",
       "0        8450            7            5          856         2         1   \n",
       "1        9600            6            8         1262         2         0   \n",
       "2       11250            7            5          920         2         1   \n",
       "3        9550            7            5          756         1         0   \n",
       "4       14260            8            5         1145         2         1   \n",
       "...       ...          ...          ...          ...       ...       ...   \n",
       "1455     7917            6            5          953         2         1   \n",
       "1456    13175            6            6         1542         2         0   \n",
       "1457     9042            7            9         1152         2         0   \n",
       "1458     9717            5            6         1078         1         0   \n",
       "1459     9937            5            6         1256         1         1   \n",
       "\n",
       "      BedroomAbvGr  TotRmsAbvGrd  Fireplaces  GarageArea  AboveMedianPrice  \n",
       "0                3             8           0         548                 1  \n",
       "1                3             6           1         460                 1  \n",
       "2                3             6           1         608                 1  \n",
       "3                3             7           1         642                 0  \n",
       "4                4             9           1         836                 1  \n",
       "...            ...           ...         ...         ...               ...  \n",
       "1455             3             7           1         460                 1  \n",
       "1456             3             7           2         500                 1  \n",
       "1457             4             9           2         252                 1  \n",
       "1458             2             5           0         240                 0  \n",
       "1459             3             6           0         276                 0  \n",
       "\n",
       "[1460 rows x 11 columns]"
      ]
     },
     "execution_count": 463,
     "metadata": {},
     "output_type": "execute_result"
    }
   ],
   "source": [
    "df"
   ]
  },
  {
   "cell_type": "code",
   "execution_count": 464,
   "metadata": {},
   "outputs": [],
   "source": [
    "dataset = df.values"
   ]
  },
  {
   "cell_type": "code",
   "execution_count": 465,
   "metadata": {},
   "outputs": [
    {
     "data": {
      "text/plain": [
       "array([[ 8450,     7,     5, ...,     0,   548,     1],\n",
       "       [ 9600,     6,     8, ...,     1,   460,     1],\n",
       "       [11250,     7,     5, ...,     1,   608,     1],\n",
       "       ...,\n",
       "       [ 9042,     7,     9, ...,     2,   252,     1],\n",
       "       [ 9717,     5,     6, ...,     0,   240,     0],\n",
       "       [ 9937,     5,     6, ...,     0,   276,     0]])"
      ]
     },
     "execution_count": 465,
     "metadata": {},
     "output_type": "execute_result"
    }
   ],
   "source": [
    "dataset"
   ]
  },
  {
   "cell_type": "code",
   "execution_count": 466,
   "metadata": {},
   "outputs": [],
   "source": [
    "inputs = dataset[:,0:10]"
   ]
  },
  {
   "cell_type": "code",
   "execution_count": 467,
   "metadata": {},
   "outputs": [
    {
     "data": {
      "text/plain": [
       "array([[ 8450,     7,     5, ...,     8,     0,   548],\n",
       "       [ 9600,     6,     8, ...,     6,     1,   460],\n",
       "       [11250,     7,     5, ...,     6,     1,   608],\n",
       "       ...,\n",
       "       [ 9042,     7,     9, ...,     9,     2,   252],\n",
       "       [ 9717,     5,     6, ...,     5,     0,   240],\n",
       "       [ 9937,     5,     6, ...,     6,     0,   276]])"
      ]
     },
     "execution_count": 467,
     "metadata": {},
     "output_type": "execute_result"
    }
   ],
   "source": [
    "inputs"
   ]
  },
  {
   "cell_type": "code",
   "execution_count": 468,
   "metadata": {},
   "outputs": [],
   "source": [
    "labels = dataset[:,10]"
   ]
  },
  {
   "cell_type": "code",
   "execution_count": 469,
   "metadata": {},
   "outputs": [
    {
     "data": {
      "text/plain": [
       "array([1, 1, 1, ..., 1, 0, 0])"
      ]
     },
     "execution_count": 469,
     "metadata": {},
     "output_type": "execute_result"
    }
   ],
   "source": [
    "labels"
   ]
  },
  {
   "cell_type": "code",
   "execution_count": 470,
   "metadata": {},
   "outputs": [],
   "source": [
    "from sklearn import preprocessing"
   ]
  },
  {
   "cell_type": "code",
   "execution_count": 471,
   "metadata": {},
   "outputs": [],
   "source": [
    "min_max_scaler = preprocessing.MinMaxScaler()\n"
   ]
  },
  {
   "cell_type": "code",
   "execution_count": 472,
   "metadata": {},
   "outputs": [],
   "source": [
    "inputs_scale = min_max_scaler.fit_transform(inputs)"
   ]
  },
  {
   "cell_type": "code",
   "execution_count": 473,
   "metadata": {
    "scrolled": true
   },
   "outputs": [
    {
     "data": {
      "text/plain": [
       "array([[0.0334198 , 0.66666667, 0.5       , ..., 0.5       , 0.        ,\n",
       "        0.3864598 ],\n",
       "       [0.03879502, 0.55555556, 0.875     , ..., 0.33333333, 0.33333333,\n",
       "        0.32440056],\n",
       "       [0.04650728, 0.66666667, 0.5       , ..., 0.33333333, 0.33333333,\n",
       "        0.42877292],\n",
       "       ...,\n",
       "       [0.03618687, 0.66666667, 1.        , ..., 0.58333333, 0.66666667,\n",
       "        0.17771509],\n",
       "       [0.03934189, 0.44444444, 0.625     , ..., 0.25      , 0.        ,\n",
       "        0.16925247],\n",
       "       [0.04037019, 0.44444444, 0.625     , ..., 0.33333333, 0.        ,\n",
       "        0.19464034]])"
      ]
     },
     "execution_count": 473,
     "metadata": {},
     "output_type": "execute_result"
    }
   ],
   "source": [
    "inputs_scale"
   ]
  },
  {
   "cell_type": "code",
   "execution_count": 474,
   "metadata": {},
   "outputs": [],
   "source": [
    "from sklearn.model_selection import train_test_split"
   ]
  },
  {
   "cell_type": "code",
   "execution_count": 475,
   "metadata": {
    "scrolled": true
   },
   "outputs": [],
   "source": [
    "inputs_train, inputs_val_and_test, labels_train, labels_val_and_test = train_test_split(inputs_scale, labels, test_size=0.3)"
   ]
  },
  {
   "cell_type": "code",
   "execution_count": 476,
   "metadata": {},
   "outputs": [],
   "source": [
    "inputs_val, inputs_test, labels_val, labels_test = train_test_split(inputs_val_and_test, labels_val_and_test, test_size=0.5)"
   ]
  },
  {
   "cell_type": "code",
   "execution_count": 477,
   "metadata": {
    "scrolled": true
   },
   "outputs": [
    {
     "name": "stdout",
     "output_type": "stream",
     "text": [
      "(1022, 10) (219, 10) (219, 10) (1022,) (219,) (219,)\n"
     ]
    }
   ],
   "source": [
    "print(inputs_train.shape, inputs_val.shape, inputs_test.shape, labels_train.shape, labels_val.shape, labels_test.shape)"
   ]
  },
  {
   "cell_type": "code",
   "execution_count": 478,
   "metadata": {},
   "outputs": [],
   "source": [
    "from keras.models import Sequential\n",
    "from keras.layers import Dense"
   ]
  },
  {
   "cell_type": "code",
   "execution_count": 479,
   "metadata": {},
   "outputs": [],
   "source": [
    "model = Sequential([\n",
    "    Dense(32, activation='relu', input_shape=(10,)),\n",
    "    Dense(32, activation='relu'),\n",
    "    Dense(1, activation='sigmoid')\n",
    "])"
   ]
  },
  {
   "cell_type": "code",
   "execution_count": 480,
   "metadata": {},
   "outputs": [],
   "source": [
    "model.compile(optimizer='sgd', loss='binary_crossentropy', metrics=['accuracy'])"
   ]
  },
  {
   "cell_type": "code",
   "execution_count": 481,
   "metadata": {},
   "outputs": [
    {
     "name": "stdout",
     "output_type": "stream",
     "text": [
      "Train on 1022 samples, validate on 219 samples\n",
      "Epoch 1/100\n",
      "1022/1022 [==============================] - 1s 532us/step - loss: 0.6942 - accuracy: 0.4980 - val_loss: 0.6915 - val_accuracy: 0.4886\n",
      "Epoch 2/100\n",
      "1022/1022 [==============================] - 0s 57us/step - loss: 0.6903 - accuracy: 0.5068 - val_loss: 0.6882 - val_accuracy: 0.5023\n",
      "Epoch 3/100\n",
      "1022/1022 [==============================] - 0s 54us/step - loss: 0.6877 - accuracy: 0.5734 - val_loss: 0.6857 - val_accuracy: 0.6256\n",
      "Epoch 4/100\n",
      "1022/1022 [==============================] - 0s 56us/step - loss: 0.6857 - accuracy: 0.6712 - val_loss: 0.6837 - val_accuracy: 0.7534\n",
      "Epoch 5/100\n",
      "1022/1022 [==============================] - 0s 48us/step - loss: 0.6839 - accuracy: 0.7701 - val_loss: 0.6819 - val_accuracy: 0.8174\n",
      "Epoch 6/100\n",
      "1022/1022 [==============================] - 0s 57us/step - loss: 0.6824 - accuracy: 0.7769 - val_loss: 0.6802 - val_accuracy: 0.8219\n",
      "Epoch 7/100\n",
      "1022/1022 [==============================] - 0s 61us/step - loss: 0.6808 - accuracy: 0.7740 - val_loss: 0.6786 - val_accuracy: 0.8174\n",
      "Epoch 8/100\n",
      "1022/1022 [==============================] - 0s 56us/step - loss: 0.6792 - accuracy: 0.7632 - val_loss: 0.6770 - val_accuracy: 0.8082\n",
      "Epoch 9/100\n",
      "1022/1022 [==============================] - 0s 54us/step - loss: 0.6776 - accuracy: 0.7955 - val_loss: 0.6753 - val_accuracy: 0.7991\n",
      "Epoch 10/100\n",
      "1022/1022 [==============================] - 0s 50us/step - loss: 0.6759 - accuracy: 0.7916 - val_loss: 0.6735 - val_accuracy: 0.7945\n",
      "Epoch 11/100\n",
      "1022/1022 [==============================] - 0s 55us/step - loss: 0.6742 - accuracy: 0.7818 - val_loss: 0.6717 - val_accuracy: 0.8128\n",
      "Epoch 12/100\n",
      "1022/1022 [==============================] - 0s 61us/step - loss: 0.6724 - accuracy: 0.7857 - val_loss: 0.6698 - val_accuracy: 0.8082\n",
      "Epoch 13/100\n",
      "1022/1022 [==============================] - 0s 54us/step - loss: 0.6705 - accuracy: 0.8063 - val_loss: 0.6678 - val_accuracy: 0.8128\n",
      "Epoch 14/100\n",
      "1022/1022 [==============================] - 0s 48us/step - loss: 0.6686 - accuracy: 0.8063 - val_loss: 0.6657 - val_accuracy: 0.8128\n",
      "Epoch 15/100\n",
      "1022/1022 [==============================] - 0s 54us/step - loss: 0.6665 - accuracy: 0.8023 - val_loss: 0.6635 - val_accuracy: 0.8219\n",
      "Epoch 16/100\n",
      "1022/1022 [==============================] - 0s 55us/step - loss: 0.6643 - accuracy: 0.8190 - val_loss: 0.6612 - val_accuracy: 0.8128\n",
      "Epoch 17/100\n",
      "1022/1022 [==============================] - 0s 57us/step - loss: 0.6620 - accuracy: 0.8112 - val_loss: 0.6587 - val_accuracy: 0.8265\n",
      "Epoch 18/100\n",
      "1022/1022 [==============================] - 0s 53us/step - loss: 0.6597 - accuracy: 0.8190 - val_loss: 0.6561 - val_accuracy: 0.8311\n",
      "Epoch 19/100\n",
      "1022/1022 [==============================] - 0s 55us/step - loss: 0.6571 - accuracy: 0.8209 - val_loss: 0.6534 - val_accuracy: 0.8356\n",
      "Epoch 20/100\n",
      "1022/1022 [==============================] - 0s 50us/step - loss: 0.6544 - accuracy: 0.8229 - val_loss: 0.6505 - val_accuracy: 0.8356\n",
      "Epoch 21/100\n",
      "1022/1022 [==============================] - 0s 56us/step - loss: 0.6515 - accuracy: 0.8327 - val_loss: 0.6474 - val_accuracy: 0.8402\n",
      "Epoch 22/100\n",
      "1022/1022 [==============================] - 0s 56us/step - loss: 0.6484 - accuracy: 0.8268 - val_loss: 0.6442 - val_accuracy: 0.8447\n",
      "Epoch 23/100\n",
      "1022/1022 [==============================] - 0s 51us/step - loss: 0.6452 - accuracy: 0.8356 - val_loss: 0.6407 - val_accuracy: 0.8447\n",
      "Epoch 24/100\n",
      "1022/1022 [==============================] - 0s 61us/step - loss: 0.6418 - accuracy: 0.8444 - val_loss: 0.6369 - val_accuracy: 0.8402\n",
      "Epoch 25/100\n",
      "1022/1022 [==============================] - 0s 56us/step - loss: 0.6381 - accuracy: 0.8425 - val_loss: 0.6329 - val_accuracy: 0.8402\n",
      "Epoch 26/100\n",
      "1022/1022 [==============================] - 0s 55us/step - loss: 0.6342 - accuracy: 0.8395 - val_loss: 0.6288 - val_accuracy: 0.8402\n",
      "Epoch 27/100\n",
      "1022/1022 [==============================] - 0s 56us/step - loss: 0.6300 - accuracy: 0.8444 - val_loss: 0.6243 - val_accuracy: 0.8447\n",
      "Epoch 28/100\n",
      "1022/1022 [==============================] - 0s 53us/step - loss: 0.6256 - accuracy: 0.8464 - val_loss: 0.6195 - val_accuracy: 0.8402\n",
      "Epoch 29/100\n",
      "1022/1022 [==============================] - 0s 54us/step - loss: 0.6208 - accuracy: 0.8483 - val_loss: 0.6145 - val_accuracy: 0.8493\n",
      "Epoch 30/100\n",
      "1022/1022 [==============================] - 0s 55us/step - loss: 0.6158 - accuracy: 0.8493 - val_loss: 0.6092 - val_accuracy: 0.8447\n",
      "Epoch 31/100\n",
      "1022/1022 [==============================] - 0s 53us/step - loss: 0.6105 - accuracy: 0.8434 - val_loss: 0.6035 - val_accuracy: 0.8493\n",
      "Epoch 32/100\n",
      "1022/1022 [==============================] - 0s 57us/step - loss: 0.6048 - accuracy: 0.8454 - val_loss: 0.5976 - val_accuracy: 0.8630\n",
      "Epoch 33/100\n",
      "1022/1022 [==============================] - 0s 58us/step - loss: 0.5989 - accuracy: 0.8474 - val_loss: 0.5911 - val_accuracy: 0.8721\n",
      "Epoch 34/100\n",
      "1022/1022 [==============================] - 0s 61us/step - loss: 0.5922 - accuracy: 0.8493 - val_loss: 0.5837 - val_accuracy: 0.8767\n",
      "Epoch 35/100\n",
      "1022/1022 [==============================] - 0s 60us/step - loss: 0.5850 - accuracy: 0.8532 - val_loss: 0.5757 - val_accuracy: 0.8721\n",
      "Epoch 36/100\n",
      "1022/1022 [==============================] - 0s 54us/step - loss: 0.5774 - accuracy: 0.8513 - val_loss: 0.5675 - val_accuracy: 0.8676\n",
      "Epoch 37/100\n",
      "1022/1022 [==============================] - 0s 46us/step - loss: 0.5695 - accuracy: 0.8523 - val_loss: 0.5593 - val_accuracy: 0.8676\n",
      "Epoch 38/100\n",
      "1022/1022 [==============================] - 0s 46us/step - loss: 0.5615 - accuracy: 0.8542 - val_loss: 0.5509 - val_accuracy: 0.8721\n",
      "Epoch 39/100\n",
      "1022/1022 [==============================] - 0s 47us/step - loss: 0.5536 - accuracy: 0.8532 - val_loss: 0.5424 - val_accuracy: 0.8721\n",
      "Epoch 40/100\n",
      "1022/1022 [==============================] - 0s 50us/step - loss: 0.5454 - accuracy: 0.8532 - val_loss: 0.5336 - val_accuracy: 0.8721\n",
      "Epoch 41/100\n",
      "1022/1022 [==============================] - 0s 47us/step - loss: 0.5370 - accuracy: 0.8523 - val_loss: 0.5247 - val_accuracy: 0.8721\n",
      "Epoch 42/100\n",
      "1022/1022 [==============================] - 0s 47us/step - loss: 0.5284 - accuracy: 0.8532 - val_loss: 0.5156 - val_accuracy: 0.8721\n",
      "Epoch 43/100\n",
      "1022/1022 [==============================] - 0s 48us/step - loss: 0.5196 - accuracy: 0.8523 - val_loss: 0.5066 - val_accuracy: 0.8721\n",
      "Epoch 44/100\n",
      "1022/1022 [==============================] - 0s 51us/step - loss: 0.5109 - accuracy: 0.8562 - val_loss: 0.4969 - val_accuracy: 0.8721\n",
      "Epoch 45/100\n",
      "1022/1022 [==============================] - 0s 50us/step - loss: 0.5020 - accuracy: 0.8532 - val_loss: 0.4876 - val_accuracy: 0.8721\n",
      "Epoch 46/100\n",
      "1022/1022 [==============================] - 0s 51us/step - loss: 0.4933 - accuracy: 0.8571 - val_loss: 0.4781 - val_accuracy: 0.8767\n",
      "Epoch 47/100\n",
      "1022/1022 [==============================] - 0s 54us/step - loss: 0.4848 - accuracy: 0.8542 - val_loss: 0.4686 - val_accuracy: 0.8767\n",
      "Epoch 48/100\n",
      "1022/1022 [==============================] - 0s 50us/step - loss: 0.4759 - accuracy: 0.8571 - val_loss: 0.4594 - val_accuracy: 0.8767\n",
      "Epoch 49/100\n",
      "1022/1022 [==============================] - 0s 50us/step - loss: 0.4676 - accuracy: 0.8523 - val_loss: 0.4498 - val_accuracy: 0.8813\n",
      "Epoch 50/100\n",
      "1022/1022 [==============================] - 0s 53us/step - loss: 0.4589 - accuracy: 0.8532 - val_loss: 0.4406 - val_accuracy: 0.8813\n",
      "Epoch 51/100\n",
      "1022/1022 [==============================] - 0s 56us/step - loss: 0.4508 - accuracy: 0.8542 - val_loss: 0.4316 - val_accuracy: 0.8813\n",
      "Epoch 52/100\n",
      "1022/1022 [==============================] - 0s 51us/step - loss: 0.4430 - accuracy: 0.8532 - val_loss: 0.4233 - val_accuracy: 0.8813\n",
      "Epoch 53/100\n",
      "1022/1022 [==============================] - 0s 48us/step - loss: 0.4355 - accuracy: 0.8571 - val_loss: 0.4146 - val_accuracy: 0.8858\n",
      "Epoch 54/100\n",
      "1022/1022 [==============================] - 0s 49us/step - loss: 0.4281 - accuracy: 0.8591 - val_loss: 0.4066 - val_accuracy: 0.8858\n",
      "Epoch 55/100\n",
      "1022/1022 [==============================] - 0s 49us/step - loss: 0.4210 - accuracy: 0.8591 - val_loss: 0.3986 - val_accuracy: 0.8858\n",
      "Epoch 56/100\n"
     ]
    },
    {
     "name": "stdout",
     "output_type": "stream",
     "text": [
      "1022/1022 [==============================] - 0s 54us/step - loss: 0.4144 - accuracy: 0.8591 - val_loss: 0.3913 - val_accuracy: 0.8858\n",
      "Epoch 57/100\n",
      "1022/1022 [==============================] - 0s 51us/step - loss: 0.4078 - accuracy: 0.8630 - val_loss: 0.3853 - val_accuracy: 0.8904\n",
      "Epoch 58/100\n",
      "1022/1022 [==============================] - 0s 50us/step - loss: 0.4022 - accuracy: 0.8581 - val_loss: 0.3770 - val_accuracy: 0.8858\n",
      "Epoch 59/100\n",
      "1022/1022 [==============================] - 0s 50us/step - loss: 0.3961 - accuracy: 0.8640 - val_loss: 0.3717 - val_accuracy: 0.8858\n",
      "Epoch 60/100\n",
      "1022/1022 [==============================] - 0s 48us/step - loss: 0.3913 - accuracy: 0.8601 - val_loss: 0.3646 - val_accuracy: 0.8858\n",
      "Epoch 61/100\n",
      "1022/1022 [==============================] - 0s 50us/step - loss: 0.3861 - accuracy: 0.8571 - val_loss: 0.3580 - val_accuracy: 0.8858\n",
      "Epoch 62/100\n",
      "1022/1022 [==============================] - 0s 56us/step - loss: 0.3809 - accuracy: 0.8591 - val_loss: 0.3526 - val_accuracy: 0.8950\n",
      "Epoch 63/100\n",
      "1022/1022 [==============================] - 0s 54us/step - loss: 0.3773 - accuracy: 0.8581 - val_loss: 0.3473 - val_accuracy: 0.8904\n",
      "Epoch 64/100\n",
      "1022/1022 [==============================] - 0s 50us/step - loss: 0.3728 - accuracy: 0.8630 - val_loss: 0.3420 - val_accuracy: 0.8904\n",
      "Epoch 65/100\n",
      "1022/1022 [==============================] - 0s 51us/step - loss: 0.3692 - accuracy: 0.8611 - val_loss: 0.3370 - val_accuracy: 0.8904\n",
      "Epoch 66/100\n",
      "1022/1022 [==============================] - 0s 55us/step - loss: 0.3654 - accuracy: 0.8601 - val_loss: 0.3321 - val_accuracy: 0.8858\n",
      "Epoch 67/100\n",
      "1022/1022 [==============================] - 0s 47us/step - loss: 0.3615 - accuracy: 0.8620 - val_loss: 0.3277 - val_accuracy: 0.8858\n",
      "Epoch 68/100\n",
      "1022/1022 [==============================] - 0s 50us/step - loss: 0.3581 - accuracy: 0.8620 - val_loss: 0.3254 - val_accuracy: 0.8858\n",
      "Epoch 69/100\n",
      "1022/1022 [==============================] - 0s 51us/step - loss: 0.3560 - accuracy: 0.8581 - val_loss: 0.3211 - val_accuracy: 0.8813\n",
      "Epoch 70/100\n",
      "1022/1022 [==============================] - 0s 50us/step - loss: 0.3523 - accuracy: 0.8640 - val_loss: 0.3157 - val_accuracy: 0.8858\n",
      "Epoch 71/100\n",
      "1022/1022 [==============================] - 0s 48us/step - loss: 0.3496 - accuracy: 0.8640 - val_loss: 0.3122 - val_accuracy: 0.8904\n",
      "Epoch 72/100\n",
      "1022/1022 [==============================] - 0s 48us/step - loss: 0.3471 - accuracy: 0.8659 - val_loss: 0.3093 - val_accuracy: 0.8904\n",
      "Epoch 73/100\n",
      "1022/1022 [==============================] - 0s 51us/step - loss: 0.3449 - accuracy: 0.8640 - val_loss: 0.3058 - val_accuracy: 0.8904\n",
      "Epoch 74/100\n",
      "1022/1022 [==============================] - 0s 49us/step - loss: 0.3420 - accuracy: 0.8669 - val_loss: 0.3020 - val_accuracy: 0.8904\n",
      "Epoch 75/100\n",
      "1022/1022 [==============================] - 0s 47us/step - loss: 0.3404 - accuracy: 0.8650 - val_loss: 0.2991 - val_accuracy: 0.8904\n",
      "Epoch 76/100\n",
      "1022/1022 [==============================] - 0s 50us/step - loss: 0.3379 - accuracy: 0.8669 - val_loss: 0.2960 - val_accuracy: 0.8904\n",
      "Epoch 77/100\n",
      "1022/1022 [==============================] - 0s 49us/step - loss: 0.3359 - accuracy: 0.8669 - val_loss: 0.2942 - val_accuracy: 0.8995\n",
      "Epoch 78/100\n",
      "1022/1022 [==============================] - 0s 54us/step - loss: 0.3338 - accuracy: 0.8679 - val_loss: 0.2903 - val_accuracy: 0.8858\n",
      "Epoch 79/100\n",
      "1022/1022 [==============================] - 0s 52us/step - loss: 0.3326 - accuracy: 0.8689 - val_loss: 0.2889 - val_accuracy: 0.8950\n",
      "Epoch 80/100\n",
      "1022/1022 [==============================] - 0s 55us/step - loss: 0.3308 - accuracy: 0.8679 - val_loss: 0.2857 - val_accuracy: 0.8950\n",
      "Epoch 81/100\n",
      "1022/1022 [==============================] - 0s 49us/step - loss: 0.3292 - accuracy: 0.8699 - val_loss: 0.2832 - val_accuracy: 0.8950\n",
      "Epoch 82/100\n",
      "1022/1022 [==============================] - 0s 53us/step - loss: 0.3270 - accuracy: 0.8708 - val_loss: 0.2829 - val_accuracy: 0.8950\n",
      "Epoch 83/100\n",
      "1022/1022 [==============================] - 0s 53us/step - loss: 0.3254 - accuracy: 0.8689 - val_loss: 0.2783 - val_accuracy: 0.8904\n",
      "Epoch 84/100\n",
      "1022/1022 [==============================] - 0s 54us/step - loss: 0.3246 - accuracy: 0.8689 - val_loss: 0.2769 - val_accuracy: 0.8950\n",
      "Epoch 85/100\n",
      "1022/1022 [==============================] - 0s 54us/step - loss: 0.3231 - accuracy: 0.8689 - val_loss: 0.2761 - val_accuracy: 0.8950\n",
      "Epoch 86/100\n",
      "1022/1022 [==============================] - 0s 50us/step - loss: 0.3218 - accuracy: 0.8679 - val_loss: 0.2727 - val_accuracy: 0.8995\n",
      "Epoch 87/100\n",
      "1022/1022 [==============================] - 0s 46us/step - loss: 0.3206 - accuracy: 0.8679 - val_loss: 0.2703 - val_accuracy: 0.9041\n",
      "Epoch 88/100\n",
      "1022/1022 [==============================] - 0s 50us/step - loss: 0.3190 - accuracy: 0.8679 - val_loss: 0.2708 - val_accuracy: 0.8995\n",
      "Epoch 89/100\n",
      "1022/1022 [==============================] - 0s 53us/step - loss: 0.3183 - accuracy: 0.8679 - val_loss: 0.2681 - val_accuracy: 0.9041\n",
      "Epoch 90/100\n",
      "1022/1022 [==============================] - 0s 52us/step - loss: 0.3171 - accuracy: 0.8699 - val_loss: 0.2666 - val_accuracy: 0.8995\n",
      "Epoch 91/100\n",
      "1022/1022 [==============================] - 0s 53us/step - loss: 0.3149 - accuracy: 0.8718 - val_loss: 0.2630 - val_accuracy: 0.8950\n",
      "Epoch 92/100\n",
      "1022/1022 [==============================] - 0s 52us/step - loss: 0.3154 - accuracy: 0.8679 - val_loss: 0.2617 - val_accuracy: 0.9041\n",
      "Epoch 93/100\n",
      "1022/1022 [==============================] - 0s 53us/step - loss: 0.3139 - accuracy: 0.8728 - val_loss: 0.2601 - val_accuracy: 0.9041\n",
      "Epoch 94/100\n",
      "1022/1022 [==============================] - 0s 55us/step - loss: 0.3121 - accuracy: 0.8738 - val_loss: 0.2591 - val_accuracy: 0.9087\n",
      "Epoch 95/100\n",
      "1022/1022 [==============================] - 0s 55us/step - loss: 0.3118 - accuracy: 0.8718 - val_loss: 0.2571 - val_accuracy: 0.9087\n",
      "Epoch 96/100\n",
      "1022/1022 [==============================] - 0s 53us/step - loss: 0.3102 - accuracy: 0.8708 - val_loss: 0.2562 - val_accuracy: 0.9087\n",
      "Epoch 97/100\n",
      "1022/1022 [==============================] - 0s 53us/step - loss: 0.3095 - accuracy: 0.8728 - val_loss: 0.2549 - val_accuracy: 0.9087\n",
      "Epoch 98/100\n",
      "1022/1022 [==============================] - 0s 51us/step - loss: 0.3087 - accuracy: 0.8728 - val_loss: 0.2531 - val_accuracy: 0.9087\n",
      "Epoch 99/100\n",
      "1022/1022 [==============================] - 0s 52us/step - loss: 0.3083 - accuracy: 0.8718 - val_loss: 0.2521 - val_accuracy: 0.9087\n",
      "Epoch 100/100\n",
      "1022/1022 [==============================] - 0s 49us/step - loss: 0.3071 - accuracy: 0.8738 - val_loss: 0.2508 - val_accuracy: 0.9087\n"
     ]
    }
   ],
   "source": [
    "hist = model.fit(inputs_train, labels_train, batch_size=32, epochs=100, validation_data=(inputs_val, labels_val))"
   ]
  },
  {
   "cell_type": "code",
   "execution_count": 482,
   "metadata": {},
   "outputs": [
    {
     "name": "stdout",
     "output_type": "stream",
     "text": [
      "219/219 [==============================] - 0s 24us/step\n"
     ]
    },
    {
     "data": {
      "text/plain": [
       "[0.3005364079997964, 0.8949771523475647]"
      ]
     },
     "execution_count": 482,
     "metadata": {},
     "output_type": "execute_result"
    }
   ],
   "source": [
    "model.evaluate(inputs_test, labels_test)"
   ]
  },
  {
   "cell_type": "code",
   "execution_count": 483,
   "metadata": {},
   "outputs": [],
   "source": [
    "import matplotlib.pyplot as plt"
   ]
  },
  {
   "cell_type": "code",
   "execution_count": 484,
   "metadata": {},
   "outputs": [
    {
     "data": {
      "image/png": "[encoded data removed]",
      "text/plain": [
       "<Figure size 432x288 with 1 Axes>"
      ]
     },
     "metadata": {
      "needs_background": "light"
     },
     "output_type": "display_data"
    }
   ],
   "source": [
    "# Training loss\n",
    "plt.plot(hist.history['loss'])\n",
    "plt.plot(hist.history['val_loss'])\n",
    "plt.title('Model loss')\n",
    "plt.ylabel('Loss')\n",
    "plt.xlabel('Epoch')\n",
    "plt.legend(['Train', 'Val'], loc='upper right')\n",
    "plt.show()"
   ]
  },
  {
   "cell_type": "code",
   "execution_count": 485,
   "metadata": {},
   "outputs": [
    {
     "data": {
      "image/png": "[encoded data removed]",
      "text/plain": [
       "<Figure size 432x288 with 1 Axes>"
      ]
     },
     "metadata": {
      "needs_background": "light"
     },
     "output_type": "display_data"
    }
   ],
   "source": [
    "# Training accuracy and validation accuracy\n",
    "plt.plot(hist.history['accuracy'])\n",
    "plt.plot(hist.history['val_accuracy'])\n",
    "plt.title('Model accuracy')\n",
    "plt.ylabel('Accuracy')\n",
    "plt.xlabel('Epoch')\n",
    "plt.legend(['Train', 'Val'], loc='lower right')\n",
    "plt.show()"
   ]
  },
  {
   "cell_type": "code",
   "execution_count": 486,
   "metadata": {},
   "outputs": [
    {
     "name": "stdout",
     "output_type": "stream",
     "text": [
      "Train on 1022 samples, validate on 219 samples\n",
      "Epoch 1/100\n",
      "1022/1022 [==============================] - 2s 2ms/step - loss: 0.4995 - accuracy: 0.7622 - val_loss: 0.3232 - val_accuracy: 0.8265\n",
      "Epoch 2/100\n",
      "1022/1022 [==============================] - 1s 1ms/step - loss: 0.3786 - accuracy: 0.8366 - val_loss: 0.3070 - val_accuracy: 0.8904\n",
      "Epoch 3/100\n",
      "1022/1022 [==============================] - 1s 990us/step - loss: 0.3142 - accuracy: 0.8806 - val_loss: 0.2276 - val_accuracy: 0.8950\n",
      "Epoch 4/100\n",
      "1022/1022 [==============================] - 1s 1ms/step - loss: 0.3056 - accuracy: 0.8699 - val_loss: 0.2380 - val_accuracy: 0.9132\n",
      "Epoch 5/100\n",
      "1022/1022 [==============================] - 1s 1ms/step - loss: 0.2729 - accuracy: 0.8816 - val_loss: 0.2118 - val_accuracy: 0.9178\n",
      "Epoch 6/100\n",
      "1022/1022 [==============================] - 1s 1ms/step - loss: 0.2703 - accuracy: 0.8777 - val_loss: 0.2600 - val_accuracy: 0.9132\n",
      "Epoch 7/100\n",
      "1022/1022 [==============================] - 1s 1ms/step - loss: 0.2572 - accuracy: 0.8845 - val_loss: 0.2368 - val_accuracy: 0.8813\n",
      "Epoch 8/100\n",
      "1022/1022 [==============================] - 1s 1ms/step - loss: 0.2875 - accuracy: 0.8796 - val_loss: 0.2462 - val_accuracy: 0.9041\n",
      "Epoch 9/100\n",
      "1022/1022 [==============================] - 1s 1ms/step - loss: 0.2471 - accuracy: 0.8992 - val_loss: 0.1992 - val_accuracy: 0.9224\n",
      "Epoch 10/100\n",
      "1022/1022 [==============================] - 1s 1ms/step - loss: 0.2228 - accuracy: 0.9022 - val_loss: 0.2225 - val_accuracy: 0.9224\n",
      "Epoch 11/100\n",
      "1022/1022 [==============================] - 1s 1ms/step - loss: 0.2349 - accuracy: 0.8914 - val_loss: 0.2521 - val_accuracy: 0.8858\n",
      "Epoch 12/100\n",
      "1022/1022 [==============================] - 1s 1ms/step - loss: 0.2363 - accuracy: 0.9002 - val_loss: 0.2335 - val_accuracy: 0.9041\n",
      "Epoch 13/100\n",
      "1022/1022 [==============================] - 1s 1ms/step - loss: 0.2392 - accuracy: 0.9012 - val_loss: 0.2030 - val_accuracy: 0.9041\n",
      "Epoch 14/100\n",
      "1022/1022 [==============================] - 1s 1ms/step - loss: 0.2500 - accuracy: 0.8845 - val_loss: 0.2594 - val_accuracy: 0.8858\n",
      "Epoch 15/100\n",
      "1022/1022 [==============================] - 1s 1ms/step - loss: 0.2362 - accuracy: 0.8924 - val_loss: 0.1910 - val_accuracy: 0.9041\n",
      "Epoch 16/100\n",
      "1022/1022 [==============================] - 1s 1ms/step - loss: 0.2160 - accuracy: 0.9080 - val_loss: 0.1962 - val_accuracy: 0.9041\n",
      "Epoch 17/100\n",
      "1022/1022 [==============================] - 1s 1ms/step - loss: 0.1994 - accuracy: 0.9090 - val_loss: 0.2201 - val_accuracy: 0.9041\n",
      "Epoch 18/100\n",
      "1022/1022 [==============================] - 1s 1ms/step - loss: 0.2158 - accuracy: 0.9070 - val_loss: 0.2330 - val_accuracy: 0.9041\n",
      "Epoch 19/100\n",
      "1022/1022 [==============================] - 1s 1ms/step - loss: 0.2029 - accuracy: 0.9129 - val_loss: 0.1830 - val_accuracy: 0.9315\n",
      "Epoch 20/100\n",
      "1022/1022 [==============================] - 1s 1ms/step - loss: 0.2101 - accuracy: 0.9100 - val_loss: 0.2688 - val_accuracy: 0.8995\n",
      "Epoch 21/100\n",
      "1022/1022 [==============================] - 1s 1ms/step - loss: 0.2204 - accuracy: 0.9012 - val_loss: 0.2214 - val_accuracy: 0.8950\n",
      "Epoch 22/100\n",
      "1022/1022 [==============================] - 1s 1ms/step - loss: 0.2105 - accuracy: 0.9051 - val_loss: 0.2088 - val_accuracy: 0.9087\n",
      "Epoch 23/100\n",
      "1022/1022 [==============================] - 1s 1ms/step - loss: 0.2133 - accuracy: 0.8973 - val_loss: 0.2755 - val_accuracy: 0.9041\n",
      "Epoch 24/100\n",
      "1022/1022 [==============================] - 1s 1ms/step - loss: 0.2079 - accuracy: 0.9090 - val_loss: 0.1801 - val_accuracy: 0.9498\n",
      "Epoch 25/100\n",
      "1022/1022 [==============================] - 1s 1ms/step - loss: 0.2274 - accuracy: 0.9002 - val_loss: 0.2507 - val_accuracy: 0.8995\n",
      "Epoch 26/100\n",
      "1022/1022 [==============================] - 1s 1ms/step - loss: 0.2011 - accuracy: 0.9129 - val_loss: 0.1954 - val_accuracy: 0.8995\n",
      "Epoch 27/100\n",
      "1022/1022 [==============================] - 1s 1ms/step - loss: 0.2051 - accuracy: 0.9110 - val_loss: 0.1983 - val_accuracy: 0.8995\n",
      "Epoch 28/100\n",
      "1022/1022 [==============================] - 1s 1ms/step - loss: 0.1913 - accuracy: 0.9129 - val_loss: 0.2057 - val_accuracy: 0.9087\n",
      "Epoch 29/100\n",
      "1022/1022 [==============================] - 1s 1ms/step - loss: 0.1851 - accuracy: 0.9188 - val_loss: 0.2419 - val_accuracy: 0.9041\n",
      "Epoch 30/100\n",
      "1022/1022 [==============================] - 1s 1ms/step - loss: 0.1922 - accuracy: 0.9090 - val_loss: 0.3643 - val_accuracy: 0.8630\n",
      "Epoch 31/100\n",
      "1022/1022 [==============================] - 1s 1ms/step - loss: 0.2079 - accuracy: 0.9061 - val_loss: 0.2077 - val_accuracy: 0.9041\n",
      "Epoch 32/100\n",
      "1022/1022 [==============================] - 1s 1ms/step - loss: 0.1964 - accuracy: 0.9188 - val_loss: 0.1906 - val_accuracy: 0.9132\n",
      "Epoch 33/100\n",
      "1022/1022 [==============================] - 1s 1ms/step - loss: 0.1811 - accuracy: 0.9119 - val_loss: 0.1982 - val_accuracy: 0.9132\n",
      "Epoch 34/100\n",
      "1022/1022 [==============================] - 1s 1ms/step - loss: 0.1878 - accuracy: 0.9188 - val_loss: 0.2061 - val_accuracy: 0.9269\n",
      "Epoch 35/100\n",
      "1022/1022 [==============================] - 1s 1ms/step - loss: 0.1958 - accuracy: 0.9217 - val_loss: 0.2186 - val_accuracy: 0.8995\n",
      "Epoch 36/100\n",
      "1022/1022 [==============================] - 1s 1ms/step - loss: 0.1873 - accuracy: 0.9129 - val_loss: 0.2063 - val_accuracy: 0.9087\n",
      "Epoch 37/100\n",
      "1022/1022 [==============================] - 1s 1ms/step - loss: 0.1869 - accuracy: 0.9129 - val_loss: 0.2017 - val_accuracy: 0.8950\n",
      "Epoch 38/100\n",
      "1022/1022 [==============================] - 1s 1ms/step - loss: 0.1735 - accuracy: 0.9188 - val_loss: 0.2092 - val_accuracy: 0.9178\n",
      "Epoch 39/100\n",
      "1022/1022 [==============================] - 1s 1ms/step - loss: 0.1803 - accuracy: 0.9178 - val_loss: 0.2172 - val_accuracy: 0.9087\n",
      "Epoch 40/100\n",
      "1022/1022 [==============================] - 1s 1ms/step - loss: 0.1726 - accuracy: 0.9139 - val_loss: 0.2712 - val_accuracy: 0.9178\n",
      "Epoch 41/100\n",
      "1022/1022 [==============================] - 1s 1ms/step - loss: 0.1629 - accuracy: 0.9207 - val_loss: 0.2081 - val_accuracy: 0.9087\n",
      "Epoch 42/100\n",
      "1022/1022 [==============================] - 1s 1ms/step - loss: 0.1741 - accuracy: 0.9159 - val_loss: 0.2309 - val_accuracy: 0.9224\n",
      "Epoch 43/100\n",
      "1022/1022 [==============================] - 1s 1ms/step - loss: 0.1852 - accuracy: 0.9159 - val_loss: 0.3242 - val_accuracy: 0.9041\n",
      "Epoch 44/100\n",
      "1022/1022 [==============================] - 1s 1ms/step - loss: 0.1748 - accuracy: 0.9188 - val_loss: 0.1852 - val_accuracy: 0.9178\n",
      "Epoch 45/100\n",
      "1022/1022 [==============================] - 1s 1ms/step - loss: 0.1722 - accuracy: 0.9198 - val_loss: 0.2222 - val_accuracy: 0.9087\n",
      "Epoch 46/100\n",
      "1022/1022 [==============================] - 1s 1ms/step - loss: 0.1608 - accuracy: 0.9305 - val_loss: 0.2793 - val_accuracy: 0.8995\n",
      "Epoch 47/100\n",
      "1022/1022 [==============================] - 1s 1ms/step - loss: 0.1685 - accuracy: 0.9217 - val_loss: 0.2247 - val_accuracy: 0.8950\n",
      "Epoch 48/100\n",
      "1022/1022 [==============================] - 1s 1ms/step - loss: 0.1636 - accuracy: 0.9295 - val_loss: 0.2475 - val_accuracy: 0.9132\n",
      "Epoch 49/100\n",
      "1022/1022 [==============================] - 1s 1ms/step - loss: 0.1989 - accuracy: 0.9149 - val_loss: 0.1910 - val_accuracy: 0.9315\n",
      "Epoch 50/100\n",
      "1022/1022 [==============================] - 1s 1ms/step - loss: 0.1858 - accuracy: 0.9198 - val_loss: 0.2478 - val_accuracy: 0.9269\n",
      "Epoch 51/100\n",
      "1022/1022 [==============================] - 1s 1ms/step - loss: 0.1678 - accuracy: 0.9237 - val_loss: 0.1965 - val_accuracy: 0.9178\n",
      "Epoch 52/100\n",
      "1022/1022 [==============================] - 1s 1ms/step - loss: 0.1713 - accuracy: 0.9256 - val_loss: 0.2154 - val_accuracy: 0.8904\n",
      "Epoch 53/100\n",
      "1022/1022 [==============================] - 1s 1ms/step - loss: 0.1522 - accuracy: 0.9354 - val_loss: 0.2960 - val_accuracy: 0.9132\n",
      "Epoch 54/100\n",
      "1022/1022 [==============================] - 1s 1ms/step - loss: 0.1591 - accuracy: 0.9295 - val_loss: 0.2108 - val_accuracy: 0.9041\n",
      "Epoch 55/100\n",
      "1022/1022 [==============================] - 1s 1ms/step - loss: 0.1618 - accuracy: 0.9295 - val_loss: 0.2344 - val_accuracy: 0.9132\n",
      "Epoch 56/100\n",
      "1022/1022 [==============================] - 1s 1ms/step - loss: 0.1542 - accuracy: 0.9276 - val_loss: 0.2109 - val_accuracy: 0.9132\n"
     ]
    },
    {
     "name": "stdout",
     "output_type": "stream",
     "text": [
      "Epoch 57/100\n",
      "1022/1022 [==============================] - 1s 1ms/step - loss: 0.1564 - accuracy: 0.9295 - val_loss: 0.2987 - val_accuracy: 0.8950\n",
      "Epoch 58/100\n",
      "1022/1022 [==============================] - 1s 1ms/step - loss: 0.1651 - accuracy: 0.9305 - val_loss: 0.2101 - val_accuracy: 0.9178\n",
      "Epoch 59/100\n",
      "1022/1022 [==============================] - 1s 1ms/step - loss: 0.1625 - accuracy: 0.9325 - val_loss: 0.3413 - val_accuracy: 0.9132\n",
      "Epoch 60/100\n",
      "1022/1022 [==============================] - 1s 1ms/step - loss: 0.1670 - accuracy: 0.9256 - val_loss: 0.6752 - val_accuracy: 0.8402\n",
      "Epoch 61/100\n",
      "1022/1022 [==============================] - 1s 1ms/step - loss: 0.1835 - accuracy: 0.9217 - val_loss: 0.2270 - val_accuracy: 0.9224\n",
      "Epoch 62/100\n",
      "1022/1022 [==============================] - 1s 1ms/step - loss: 0.1730 - accuracy: 0.9266 - val_loss: 0.2319 - val_accuracy: 0.9087\n",
      "Epoch 63/100\n",
      "1022/1022 [==============================] - 1s 1ms/step - loss: 0.1535 - accuracy: 0.9374 - val_loss: 0.4056 - val_accuracy: 0.8767\n",
      "Epoch 64/100\n",
      "1022/1022 [==============================] - 1s 1ms/step - loss: 0.1582 - accuracy: 0.9247 - val_loss: 0.4107 - val_accuracy: 0.8858\n",
      "Epoch 65/100\n",
      "1022/1022 [==============================] - 1s 1ms/step - loss: 0.1491 - accuracy: 0.9393 - val_loss: 0.2741 - val_accuracy: 0.9132\n",
      "Epoch 66/100\n",
      "1022/1022 [==============================] - 1s 1ms/step - loss: 0.1478 - accuracy: 0.9325 - val_loss: 0.2378 - val_accuracy: 0.9132\n",
      "Epoch 67/100\n",
      "1022/1022 [==============================] - 1s 1ms/step - loss: 0.1371 - accuracy: 0.9364 - val_loss: 0.2255 - val_accuracy: 0.8904\n",
      "Epoch 68/100\n",
      "1022/1022 [==============================] - 1s 1ms/step - loss: 0.1472 - accuracy: 0.9344 - val_loss: 0.4957 - val_accuracy: 0.9041\n",
      "Epoch 69/100\n",
      "1022/1022 [==============================] - 1s 1ms/step - loss: 0.1558 - accuracy: 0.9325 - val_loss: 0.2647 - val_accuracy: 0.9178\n",
      "Epoch 70/100\n",
      "1022/1022 [==============================] - 1s 1ms/step - loss: 0.1561 - accuracy: 0.9276 - val_loss: 0.2418 - val_accuracy: 0.9087\n",
      "Epoch 71/100\n",
      "1022/1022 [==============================] - 1s 1ms/step - loss: 0.1463 - accuracy: 0.9442 - val_loss: 0.3215 - val_accuracy: 0.9041\n",
      "Epoch 72/100\n",
      "1022/1022 [==============================] - 1s 1ms/step - loss: 0.1220 - accuracy: 0.9530 - val_loss: 0.2353 - val_accuracy: 0.9087\n",
      "Epoch 73/100\n",
      "1022/1022 [==============================] - 1s 1ms/step - loss: 0.1300 - accuracy: 0.9413 - val_loss: 0.3038 - val_accuracy: 0.8995\n",
      "Epoch 74/100\n",
      "1022/1022 [==============================] - 1s 1ms/step - loss: 0.1274 - accuracy: 0.9462 - val_loss: 0.4921 - val_accuracy: 0.8858\n",
      "Epoch 75/100\n",
      "1022/1022 [==============================] - 1s 1ms/step - loss: 0.1528 - accuracy: 0.9432 - val_loss: 0.2591 - val_accuracy: 0.8904\n",
      "Epoch 76/100\n",
      "1022/1022 [==============================] - 1s 1ms/step - loss: 0.1618 - accuracy: 0.9286 - val_loss: 0.2879 - val_accuracy: 0.9178\n",
      "Epoch 77/100\n",
      "1022/1022 [==============================] - 1s 1ms/step - loss: 0.1587 - accuracy: 0.9354 - val_loss: 0.3005 - val_accuracy: 0.9132\n",
      "Epoch 78/100\n",
      "1022/1022 [==============================] - 1s 1ms/step - loss: 0.1534 - accuracy: 0.9374 - val_loss: 0.2375 - val_accuracy: 0.9087\n",
      "Epoch 79/100\n",
      "1022/1022 [==============================] - 1s 1ms/step - loss: 0.1330 - accuracy: 0.9413 - val_loss: 0.3126 - val_accuracy: 0.8950\n",
      "Epoch 80/100\n",
      "1022/1022 [==============================] - 1s 1ms/step - loss: 0.1292 - accuracy: 0.9491 - val_loss: 0.3282 - val_accuracy: 0.8904\n",
      "Epoch 81/100\n",
      "1022/1022 [==============================] - 1s 1ms/step - loss: 0.1176 - accuracy: 0.9481 - val_loss: 0.2942 - val_accuracy: 0.8767\n",
      "Epoch 82/100\n",
      "1022/1022 [==============================] - 1s 1ms/step - loss: 0.1074 - accuracy: 0.9569 - val_loss: 0.4340 - val_accuracy: 0.8813\n",
      "Epoch 83/100\n",
      "1022/1022 [==============================] - 1s 1ms/step - loss: 0.1233 - accuracy: 0.9521 - val_loss: 0.3517 - val_accuracy: 0.8813\n",
      "Epoch 84/100\n",
      "1022/1022 [==============================] - 1s 1ms/step - loss: 0.1181 - accuracy: 0.9540 - val_loss: 0.4171 - val_accuracy: 0.8995\n",
      "Epoch 85/100\n",
      "1022/1022 [==============================] - 1s 1ms/step - loss: 0.1262 - accuracy: 0.9413 - val_loss: 0.4367 - val_accuracy: 0.8904\n",
      "Epoch 86/100\n",
      "1022/1022 [==============================] - 1s 1ms/step - loss: 0.1434 - accuracy: 0.9452 - val_loss: 0.4459 - val_accuracy: 0.9041\n",
      "Epoch 87/100\n",
      "1022/1022 [==============================] - 1s 1ms/step - loss: 0.1442 - accuracy: 0.9413 - val_loss: 0.2836 - val_accuracy: 0.9087\n",
      "Epoch 88/100\n",
      "1022/1022 [==============================] - 1s 1ms/step - loss: 0.1131 - accuracy: 0.9550 - val_loss: 0.2540 - val_accuracy: 0.8950\n",
      "Epoch 89/100\n",
      "1022/1022 [==============================] - 1s 1ms/step - loss: 0.1297 - accuracy: 0.9462 - val_loss: 0.2757 - val_accuracy: 0.8904\n",
      "Epoch 90/100\n",
      "1022/1022 [==============================] - 1s 1ms/step - loss: 0.1384 - accuracy: 0.9442 - val_loss: 0.4641 - val_accuracy: 0.8858\n",
      "Epoch 91/100\n",
      "1022/1022 [==============================] - 1s 1ms/step - loss: 0.1405 - accuracy: 0.9501 - val_loss: 0.4260 - val_accuracy: 0.8676\n",
      "Epoch 92/100\n",
      "1022/1022 [==============================] - 1s 1ms/step - loss: 0.1245 - accuracy: 0.9501 - val_loss: 0.3914 - val_accuracy: 0.8858\n",
      "Epoch 93/100\n",
      "1022/1022 [==============================] - 1s 1ms/step - loss: 0.1202 - accuracy: 0.9501 - val_loss: 0.4416 - val_accuracy: 0.8721\n",
      "Epoch 94/100\n",
      "1022/1022 [==============================] - 1s 1ms/step - loss: 0.1248 - accuracy: 0.9491 - val_loss: 0.4953 - val_accuracy: 0.8950\n",
      "Epoch 95/100\n",
      "1022/1022 [==============================] - 1s 1ms/step - loss: 0.1328 - accuracy: 0.9550 - val_loss: 0.2620 - val_accuracy: 0.8904\n",
      "Epoch 96/100\n",
      "1022/1022 [==============================] - 1s 1ms/step - loss: 0.1093 - accuracy: 0.9540 - val_loss: 0.3696 - val_accuracy: 0.8721\n",
      "Epoch 97/100\n",
      "1022/1022 [==============================] - 1s 1ms/step - loss: 0.1028 - accuracy: 0.9609 - val_loss: 0.3199 - val_accuracy: 0.8950\n",
      "Epoch 98/100\n",
      "1022/1022 [==============================] - 1s 1ms/step - loss: 0.1035 - accuracy: 0.9540 - val_loss: 0.4663 - val_accuracy: 0.8813\n",
      "Epoch 99/100\n",
      "1022/1022 [==============================] - 1s 1ms/step - loss: 0.1369 - accuracy: 0.9423 - val_loss: 0.4045 - val_accuracy: 0.8813\n",
      "Epoch 100/100\n",
      "1022/1022 [==============================] - 1s 1ms/step - loss: 0.1232 - accuracy: 0.9501 - val_loss: 0.2750 - val_accuracy: 0.9087\n"
     ]
    }
   ],
   "source": [
    "# Overfitted model\n",
    "model_2 = Sequential([\n",
    "    Dense(1000, activation='relu', input_shape=(10,)),\n",
    "    Dense(1000, activation='relu'),\n",
    "    Dense(1000, activation='relu'),\n",
    "    Dense(1000, activation='relu'),\n",
    "    Dense(1, activation='sigmoid'),\n",
    "])\n",
    "\n",
    "model_2.compile(optimizer='adam', loss='binary_crossentropy', metrics=['accuracy'])\n",
    "\n",
    "hist_2 = model_2.fit(inputs_train, labels_train, batch_size=32, epochs=100, validation_data=(inputs_val, labels_val))\n"
   ]
  },
  {
   "cell_type": "code",
   "execution_count": 487,
   "metadata": {},
   "outputs": [
    {
     "data": {
      "image/png": "[encoded data removed]",
      "text/plain": [
       "<Figure size 432x288 with 1 Axes>"
      ]
     },
     "metadata": {
      "needs_background": "light"
     },
     "output_type": "display_data"
    }
   ],
   "source": [
    "plt.plot(hist_2.history['loss'])\n",
    "plt.plot(hist_2.history['val_loss'])\n",
    "plt.title('Model loss')\n",
    "plt.ylabel('Loss')\n",
    "plt.xlabel('Epoch')\n",
    "plt.legend(['Train', 'Val'], loc='upper right')\n",
    "plt.show()"
   ]
  },
  {
   "cell_type": "code",
   "execution_count": 488,
   "metadata": {},
   "outputs": [
    {
     "data": {
      "image/png": "[encoded data removed]",
      "text/plain": [
       "<Figure size 432x288 with 1 Axes>"
      ]
     },
     "metadata": {
      "needs_background": "light"
     },
     "output_type": "display_data"
    }
   ],
   "source": [
    "plt.plot(hist_2.history['accuracy'])\n",
    "plt.plot(hist_2.history['val_accuracy'])\n",
    "plt.title('Model accuracy')\n",
    "plt.ylabel('Accuracy')\n",
    "plt.xlabel('Epoch')\n",
    "plt.legend(['Train', 'Val'], loc='lower right')\n",
    "plt.show()"
   ]
  },
  {
   "cell_type": "code",
   "execution_count": 489,
   "metadata": {},
   "outputs": [],
   "source": [
    "from keras.layers import Dropout\n",
    "from keras import regularizers"
   ]
  },
  {
   "cell_type": "code",
   "execution_count": 490,
   "metadata": {},
   "outputs": [
    {
     "name": "stdout",
     "output_type": "stream",
     "text": [
      "Train on 1022 samples, validate on 219 samples\n",
      "Epoch 1/100\n",
      "1022/1022 [==============================] - 3s 3ms/step - loss: 14.2442 - accuracy: 0.5724 - val_loss: 3.9021 - val_accuracy: 0.8219\n",
      "Epoch 2/100\n",
      "1022/1022 [==============================] - 2s 2ms/step - loss: 1.6827 - accuracy: 0.8200 - val_loss: 0.6675 - val_accuracy: 0.8493\n",
      "Epoch 3/100\n",
      "1022/1022 [==============================] - 2s 2ms/step - loss: 0.5729 - accuracy: 0.8571 - val_loss: 0.4769 - val_accuracy: 0.8904\n",
      "Epoch 4/100\n",
      "1022/1022 [==============================] - 2s 2ms/step - loss: 0.5272 - accuracy: 0.8454 - val_loss: 0.4276 - val_accuracy: 0.9041\n",
      "Epoch 5/100\n",
      "1022/1022 [==============================] - 2s 2ms/step - loss: 0.5080 - accuracy: 0.8591 - val_loss: 0.4695 - val_accuracy: 0.8858\n",
      "Epoch 6/100\n",
      "1022/1022 [==============================] - 2s 2ms/step - loss: 0.5053 - accuracy: 0.8620 - val_loss: 0.4270 - val_accuracy: 0.8950\n",
      "Epoch 7/100\n",
      "1022/1022 [==============================] - 2s 2ms/step - loss: 0.4966 - accuracy: 0.8689 - val_loss: 0.4245 - val_accuracy: 0.9041\n",
      "Epoch 8/100\n",
      "1022/1022 [==============================] - 2s 2ms/step - loss: 0.4932 - accuracy: 0.8620 - val_loss: 0.4408 - val_accuracy: 0.8813\n",
      "Epoch 9/100\n",
      "1022/1022 [==============================] - 2s 2ms/step - loss: 0.4665 - accuracy: 0.8777 - val_loss: 0.4169 - val_accuracy: 0.9041\n",
      "Epoch 10/100\n",
      "1022/1022 [==============================] - 2s 2ms/step - loss: 0.4690 - accuracy: 0.8699 - val_loss: 0.4052 - val_accuracy: 0.9132\n",
      "Epoch 11/100\n",
      "1022/1022 [==============================] - 2s 2ms/step - loss: 0.4775 - accuracy: 0.8611 - val_loss: 0.3997 - val_accuracy: 0.9087\n",
      "Epoch 12/100\n",
      "1022/1022 [==============================] - 2s 2ms/step - loss: 0.4606 - accuracy: 0.8699 - val_loss: 0.4031 - val_accuracy: 0.9224\n",
      "Epoch 13/100\n",
      "1022/1022 [==============================] - 2s 2ms/step - loss: 0.4587 - accuracy: 0.8875 - val_loss: 0.4159 - val_accuracy: 0.8950\n",
      "Epoch 14/100\n",
      "1022/1022 [==============================] - 2s 2ms/step - loss: 0.4582 - accuracy: 0.8669 - val_loss: 0.4459 - val_accuracy: 0.8813\n",
      "Epoch 15/100\n",
      "1022/1022 [==============================] - 2s 2ms/step - loss: 0.4510 - accuracy: 0.8796 - val_loss: 0.3869 - val_accuracy: 0.9132\n",
      "Epoch 16/100\n",
      "1022/1022 [==============================] - 2s 2ms/step - loss: 0.4616 - accuracy: 0.8591 - val_loss: 0.3976 - val_accuracy: 0.9132\n",
      "Epoch 17/100\n",
      "1022/1022 [==============================] - 2s 2ms/step - loss: 0.4670 - accuracy: 0.8738 - val_loss: 0.3889 - val_accuracy: 0.9132\n",
      "Epoch 18/100\n",
      "1022/1022 [==============================] - 2s 2ms/step - loss: 0.5408 - accuracy: 0.8307 - val_loss: 0.4068 - val_accuracy: 0.9132\n",
      "Epoch 19/100\n",
      "1022/1022 [==============================] - 2s 2ms/step - loss: 0.4923 - accuracy: 0.8513 - val_loss: 0.3998 - val_accuracy: 0.8995\n",
      "Epoch 20/100\n",
      "1022/1022 [==============================] - 2s 2ms/step - loss: 0.5021 - accuracy: 0.8552 - val_loss: 0.4509 - val_accuracy: 0.8950\n",
      "Epoch 21/100\n",
      "1022/1022 [==============================] - 2s 2ms/step - loss: 0.4540 - accuracy: 0.8748 - val_loss: 0.3940 - val_accuracy: 0.9087\n",
      "Epoch 22/100\n",
      "1022/1022 [==============================] - 2s 2ms/step - loss: 0.4429 - accuracy: 0.8904 - val_loss: 0.3733 - val_accuracy: 0.9132\n",
      "Epoch 23/100\n",
      "1022/1022 [==============================] - 2s 2ms/step - loss: 0.4439 - accuracy: 0.8738 - val_loss: 0.3776 - val_accuracy: 0.9132\n",
      "Epoch 24/100\n",
      "1022/1022 [==============================] - 2s 2ms/step - loss: 0.4458 - accuracy: 0.8748 - val_loss: 0.3716 - val_accuracy: 0.9224\n",
      "Epoch 25/100\n",
      "1022/1022 [==============================] - 2s 2ms/step - loss: 0.4799 - accuracy: 0.8620 - val_loss: 0.4620 - val_accuracy: 0.8630\n",
      "Epoch 26/100\n",
      "1022/1022 [==============================] - 2s 2ms/step - loss: 0.4576 - accuracy: 0.8757 - val_loss: 0.3835 - val_accuracy: 0.9224\n",
      "Epoch 27/100\n",
      "1022/1022 [==============================] - 2s 2ms/step - loss: 0.4557 - accuracy: 0.8728 - val_loss: 0.4121 - val_accuracy: 0.9041\n",
      "Epoch 28/100\n",
      "1022/1022 [==============================] - 2s 2ms/step - loss: 0.4487 - accuracy: 0.8699 - val_loss: 0.3765 - val_accuracy: 0.9178\n",
      "Epoch 29/100\n",
      "1022/1022 [==============================] - 2s 2ms/step - loss: 0.4462 - accuracy: 0.8738 - val_loss: 0.3716 - val_accuracy: 0.9178\n",
      "Epoch 30/100\n",
      "1022/1022 [==============================] - 2s 2ms/step - loss: 0.4299 - accuracy: 0.8777 - val_loss: 0.3663 - val_accuracy: 0.9224\n",
      "Epoch 31/100\n",
      "1022/1022 [==============================] - 2s 2ms/step - loss: 0.4685 - accuracy: 0.8611 - val_loss: 0.4061 - val_accuracy: 0.8995\n",
      "Epoch 32/100\n",
      "1022/1022 [==============================] - 2s 2ms/step - loss: 0.4485 - accuracy: 0.8640 - val_loss: 0.3741 - val_accuracy: 0.9224\n",
      "Epoch 33/100\n",
      "1022/1022 [==============================] - 2s 2ms/step - loss: 0.4579 - accuracy: 0.8650 - val_loss: 0.3704 - val_accuracy: 0.9224\n",
      "Epoch 34/100\n",
      "1022/1022 [==============================] - 2s 2ms/step - loss: 0.4690 - accuracy: 0.8669 - val_loss: 0.3746 - val_accuracy: 0.9269\n",
      "Epoch 35/100\n",
      "1022/1022 [==============================] - 2s 2ms/step - loss: 0.4264 - accuracy: 0.8914 - val_loss: 0.3720 - val_accuracy: 0.9178\n",
      "Epoch 36/100\n",
      "1022/1022 [==============================] - 2s 2ms/step - loss: 0.4456 - accuracy: 0.8699 - val_loss: 0.3841 - val_accuracy: 0.9132\n",
      "Epoch 37/100\n",
      "1022/1022 [==============================] - 2s 2ms/step - loss: 0.4457 - accuracy: 0.8826 - val_loss: 0.3657 - val_accuracy: 0.9269\n",
      "Epoch 38/100\n",
      "1022/1022 [==============================] - 2s 2ms/step - loss: 0.4347 - accuracy: 0.8865 - val_loss: 0.4069 - val_accuracy: 0.9087\n",
      "Epoch 39/100\n",
      "1022/1022 [==============================] - 2s 2ms/step - loss: 0.4493 - accuracy: 0.8699 - val_loss: 0.3744 - val_accuracy: 0.9224\n",
      "Epoch 40/100\n",
      "1022/1022 [==============================] - 2s 2ms/step - loss: 0.4572 - accuracy: 0.8718 - val_loss: 0.3767 - val_accuracy: 0.9269\n",
      "Epoch 41/100\n",
      "1022/1022 [==============================] - 2s 2ms/step - loss: 0.4396 - accuracy: 0.8718 - val_loss: 0.3725 - val_accuracy: 0.9178\n",
      "Epoch 42/100\n",
      "1022/1022 [==============================] - 2s 2ms/step - loss: 0.4567 - accuracy: 0.8650 - val_loss: 0.3700 - val_accuracy: 0.9315\n",
      "Epoch 43/100\n",
      "1022/1022 [==============================] - 2s 2ms/step - loss: 0.4549 - accuracy: 0.8748 - val_loss: 0.3833 - val_accuracy: 0.9224\n",
      "Epoch 44/100\n",
      "1022/1022 [==============================] - 2s 2ms/step - loss: 0.4477 - accuracy: 0.8728 - val_loss: 0.3718 - val_accuracy: 0.9178\n",
      "Epoch 45/100\n",
      "1022/1022 [==============================] - 2s 2ms/step - loss: 0.4293 - accuracy: 0.8836 - val_loss: 0.3661 - val_accuracy: 0.9224\n",
      "Epoch 46/100\n",
      "1022/1022 [==============================] - 2s 2ms/step - loss: 0.4448 - accuracy: 0.8650 - val_loss: 0.3650 - val_accuracy: 0.9178\n",
      "Epoch 47/100\n",
      "1022/1022 [==============================] - 2s 2ms/step - loss: 0.4451 - accuracy: 0.8650 - val_loss: 0.3699 - val_accuracy: 0.9315\n",
      "Epoch 48/100\n",
      "1022/1022 [==============================] - 2s 2ms/step - loss: 0.4592 - accuracy: 0.8748 - val_loss: 0.3705 - val_accuracy: 0.9224\n",
      "Epoch 49/100\n",
      "1022/1022 [==============================] - 2s 2ms/step - loss: 0.4272 - accuracy: 0.8894 - val_loss: 0.3694 - val_accuracy: 0.9224\n",
      "Epoch 50/100\n",
      "1022/1022 [==============================] - 2s 2ms/step - loss: 0.4380 - accuracy: 0.8894 - val_loss: 0.3674 - val_accuracy: 0.9224\n",
      "Epoch 51/100\n",
      "1022/1022 [==============================] - 2s 2ms/step - loss: 0.4468 - accuracy: 0.8689 - val_loss: 0.3826 - val_accuracy: 0.9087\n",
      "Epoch 52/100\n",
      "1022/1022 [==============================] - 2s 2ms/step - loss: 0.4318 - accuracy: 0.8767 - val_loss: 0.3786 - val_accuracy: 0.9087\n",
      "Epoch 53/100\n",
      "1022/1022 [==============================] - 2s 2ms/step - loss: 0.4448 - accuracy: 0.8640 - val_loss: 0.3634 - val_accuracy: 0.9224\n",
      "Epoch 54/100\n",
      "1022/1022 [==============================] - 2s 2ms/step - loss: 0.4370 - accuracy: 0.8787 - val_loss: 0.3626 - val_accuracy: 0.9224\n",
      "Epoch 55/100\n",
      "1022/1022 [==============================] - 2s 2ms/step - loss: 0.4455 - accuracy: 0.8728 - val_loss: 0.4036 - val_accuracy: 0.9087\n",
      "Epoch 56/100\n",
      "1022/1022 [==============================] - 2s 2ms/step - loss: 0.4397 - accuracy: 0.8757 - val_loss: 0.3655 - val_accuracy: 0.9269\n"
     ]
    },
    {
     "name": "stdout",
     "output_type": "stream",
     "text": [
      "Epoch 57/100\n",
      "1022/1022 [==============================] - 2s 2ms/step - loss: 0.4438 - accuracy: 0.8699 - val_loss: 0.3724 - val_accuracy: 0.9178\n",
      "Epoch 58/100\n",
      "1022/1022 [==============================] - 2s 2ms/step - loss: 0.4438 - accuracy: 0.8708 - val_loss: 0.3665 - val_accuracy: 0.9269\n",
      "Epoch 59/100\n",
      "1022/1022 [==============================] - 2s 2ms/step - loss: 0.4357 - accuracy: 0.8767 - val_loss: 0.3922 - val_accuracy: 0.9087\n",
      "Epoch 60/100\n",
      "1022/1022 [==============================] - 2s 2ms/step - loss: 0.4566 - accuracy: 0.8659 - val_loss: 0.3834 - val_accuracy: 0.9041\n",
      "Epoch 61/100\n",
      "1022/1022 [==============================] - 2s 2ms/step - loss: 0.4321 - accuracy: 0.8787 - val_loss: 0.3803 - val_accuracy: 0.9132\n",
      "Epoch 62/100\n",
      "1022/1022 [==============================] - 2s 2ms/step - loss: 0.4489 - accuracy: 0.8777 - val_loss: 0.3710 - val_accuracy: 0.9224\n",
      "Epoch 63/100\n",
      "1022/1022 [==============================] - 2s 2ms/step - loss: 0.4454 - accuracy: 0.8699 - val_loss: 0.3674 - val_accuracy: 0.9269\n",
      "Epoch 64/100\n",
      "1022/1022 [==============================] - 2s 2ms/step - loss: 0.4333 - accuracy: 0.8738 - val_loss: 0.4527 - val_accuracy: 0.8539\n",
      "Epoch 65/100\n",
      "1022/1022 [==============================] - 2s 2ms/step - loss: 0.4407 - accuracy: 0.8836 - val_loss: 0.3634 - val_accuracy: 0.9224\n",
      "Epoch 66/100\n",
      "1022/1022 [==============================] - 2s 2ms/step - loss: 0.4408 - accuracy: 0.8806 - val_loss: 0.3646 - val_accuracy: 0.9269\n",
      "Epoch 67/100\n",
      "1022/1022 [==============================] - 2s 2ms/step - loss: 0.4395 - accuracy: 0.8796 - val_loss: 0.3641 - val_accuracy: 0.9224\n",
      "Epoch 68/100\n",
      "1022/1022 [==============================] - 2s 2ms/step - loss: 0.4464 - accuracy: 0.8718 - val_loss: 0.3961 - val_accuracy: 0.8950\n",
      "Epoch 69/100\n",
      "1022/1022 [==============================] - 2s 2ms/step - loss: 0.4561 - accuracy: 0.8699 - val_loss: 0.3653 - val_accuracy: 0.9269\n",
      "Epoch 70/100\n",
      "1022/1022 [==============================] - 2s 2ms/step - loss: 0.4418 - accuracy: 0.8728 - val_loss: 0.3662 - val_accuracy: 0.9224\n",
      "Epoch 71/100\n",
      "1022/1022 [==============================] - 2s 2ms/step - loss: 0.4441 - accuracy: 0.8787 - val_loss: 0.3614 - val_accuracy: 0.9269\n",
      "Epoch 72/100\n",
      "1022/1022 [==============================] - 2s 2ms/step - loss: 0.4689 - accuracy: 0.8708 - val_loss: 0.4056 - val_accuracy: 0.8950\n",
      "Epoch 73/100\n",
      "1022/1022 [==============================] - 2s 2ms/step - loss: 0.4413 - accuracy: 0.8699 - val_loss: 0.3864 - val_accuracy: 0.9132\n",
      "Epoch 74/100\n",
      "1022/1022 [==============================] - 2s 2ms/step - loss: 0.4431 - accuracy: 0.8748 - val_loss: 0.3943 - val_accuracy: 0.9087\n",
      "Epoch 75/100\n",
      "1022/1022 [==============================] - 2s 2ms/step - loss: 0.4441 - accuracy: 0.8679 - val_loss: 0.4044 - val_accuracy: 0.9087\n",
      "Epoch 76/100\n",
      "1022/1022 [==============================] - 2s 2ms/step - loss: 0.4529 - accuracy: 0.8581 - val_loss: 0.3700 - val_accuracy: 0.9132\n",
      "Epoch 77/100\n",
      "1022/1022 [==============================] - 2s 2ms/step - loss: 0.4335 - accuracy: 0.8728 - val_loss: 0.3774 - val_accuracy: 0.9269\n",
      "Epoch 78/100\n",
      "1022/1022 [==============================] - 2s 2ms/step - loss: 0.4404 - accuracy: 0.8748 - val_loss: 0.4505 - val_accuracy: 0.8676\n",
      "Epoch 79/100\n",
      "1022/1022 [==============================] - 2s 2ms/step - loss: 0.4692 - accuracy: 0.8523 - val_loss: 0.3592 - val_accuracy: 0.9178\n",
      "Epoch 80/100\n",
      "1022/1022 [==============================] - 2s 2ms/step - loss: 0.4432 - accuracy: 0.8826 - val_loss: 0.3674 - val_accuracy: 0.9224\n",
      "Epoch 81/100\n",
      "1022/1022 [==============================] - 2s 2ms/step - loss: 0.4422 - accuracy: 0.8738 - val_loss: 0.3658 - val_accuracy: 0.9269\n",
      "Epoch 82/100\n",
      "1022/1022 [==============================] - 2s 2ms/step - loss: 0.4540 - accuracy: 0.8708 - val_loss: 0.3754 - val_accuracy: 0.9132\n",
      "Epoch 83/100\n",
      "1022/1022 [==============================] - 2s 2ms/step - loss: 0.4443 - accuracy: 0.8777 - val_loss: 0.4052 - val_accuracy: 0.9087\n",
      "Epoch 84/100\n",
      "1022/1022 [==============================] - 2s 2ms/step - loss: 0.4587 - accuracy: 0.8659 - val_loss: 0.3712 - val_accuracy: 0.9269\n",
      "Epoch 85/100\n",
      "1022/1022 [==============================] - 2s 2ms/step - loss: 0.4372 - accuracy: 0.8728 - val_loss: 0.3657 - val_accuracy: 0.9178\n",
      "Epoch 86/100\n",
      "1022/1022 [==============================] - 2s 2ms/step - loss: 0.4392 - accuracy: 0.8796 - val_loss: 0.3784 - val_accuracy: 0.9178\n",
      "Epoch 87/100\n",
      "1022/1022 [==============================] - 2s 2ms/step - loss: 0.4361 - accuracy: 0.8767 - val_loss: 0.3822 - val_accuracy: 0.9178\n",
      "Epoch 88/100\n",
      "1022/1022 [==============================] - 2s 2ms/step - loss: 0.4322 - accuracy: 0.8875 - val_loss: 0.3683 - val_accuracy: 0.9224\n",
      "Epoch 89/100\n",
      "1022/1022 [==============================] - 2s 2ms/step - loss: 0.4379 - accuracy: 0.8738 - val_loss: 0.3616 - val_accuracy: 0.9224\n",
      "Epoch 90/100\n",
      "1022/1022 [==============================] - 2s 2ms/step - loss: 0.4399 - accuracy: 0.8796 - val_loss: 0.3711 - val_accuracy: 0.9269\n",
      "Epoch 91/100\n",
      "1022/1022 [==============================] - 2s 2ms/step - loss: 0.4351 - accuracy: 0.8748 - val_loss: 0.3637 - val_accuracy: 0.9269\n",
      "Epoch 92/100\n",
      "1022/1022 [==============================] - 2s 2ms/step - loss: 0.4247 - accuracy: 0.8796 - val_loss: 0.3671 - val_accuracy: 0.9269\n",
      "Epoch 93/100\n",
      "1022/1022 [==============================] - 2s 2ms/step - loss: 0.4397 - accuracy: 0.8718 - val_loss: 0.3665 - val_accuracy: 0.9178\n",
      "Epoch 94/100\n",
      "1022/1022 [==============================] - 2s 2ms/step - loss: 0.4281 - accuracy: 0.8757 - val_loss: 0.4303 - val_accuracy: 0.8721\n",
      "Epoch 95/100\n",
      "1022/1022 [==============================] - 2s 2ms/step - loss: 0.4526 - accuracy: 0.8659 - val_loss: 0.3850 - val_accuracy: 0.9178\n",
      "Epoch 96/100\n",
      "1022/1022 [==============================] - 2s 2ms/step - loss: 0.4458 - accuracy: 0.8689 - val_loss: 0.3780 - val_accuracy: 0.9087\n",
      "Epoch 97/100\n",
      "1022/1022 [==============================] - 2s 2ms/step - loss: 0.4600 - accuracy: 0.8581 - val_loss: 0.4131 - val_accuracy: 0.9041\n",
      "Epoch 98/100\n",
      "1022/1022 [==============================] - 2s 2ms/step - loss: 0.4341 - accuracy: 0.8796 - val_loss: 0.3730 - val_accuracy: 0.9224\n",
      "Epoch 99/100\n",
      "1022/1022 [==============================] - 2s 2ms/step - loss: 0.4302 - accuracy: 0.8816 - val_loss: 0.3727 - val_accuracy: 0.9178\n",
      "Epoch 100/100\n",
      "1022/1022 [==============================] - 2s 2ms/step - loss: 0.4430 - accuracy: 0.8699 - val_loss: 0.3693 - val_accuracy: 0.9269\n"
     ]
    }
   ],
   "source": [
    "model_3 = Sequential([\n",
    "    Dense(1000, activation='relu', kernel_regularizer=regularizers.l2(0.01), input_shape=(10,)),\n",
    "    Dropout(0.3),\n",
    "    Dense(1000, activation='relu', kernel_regularizer=regularizers.l2(0.01)),\n",
    "    Dropout(0.3),\n",
    "    Dense(1000, activation='relu', kernel_regularizer=regularizers.l2(0.01)),\n",
    "    Dropout(0.3),\n",
    "    Dense(1000, activation='relu', kernel_regularizer=regularizers.l2(0.01)),\n",
    "    Dropout(0.3),\n",
    "    Dense(1, activation='sigmoid', kernel_regularizer=regularizers.l2(0.01)),\n",
    "])\n",
    "\n",
    "model_3.compile(optimizer='adam',\n",
    "              loss='binary_crossentropy',\n",
    "              metrics=['accuracy'])\n",
    "\n",
    "hist_3 = model_3.fit(inputs_train, labels_train,\n",
    "          batch_size=32, epochs=100,\n",
    "          validation_data=(inputs_val, labels_val))"
   ]
  },
  {
   "cell_type": "code",
   "execution_count": 491,
   "metadata": {},
   "outputs": [
    {
     "data": {
      "image/png": "[encoded data removed]",
      "text/plain": [
       "<Figure size 432x288 with 1 Axes>"
      ]
     },
     "metadata": {
      "needs_background": "light"
     },
     "output_type": "display_data"
    }
   ],
   "source": [
    "plt.plot(hist_3.history['loss'])\n",
    "plt.plot(hist_3.history['val_loss'])\n",
    "plt.title('Model loss')\n",
    "plt.ylabel('Loss')\n",
    "plt.xlabel('Epoch')\n",
    "plt.legend(['Train', 'Val'], loc='upper right')\n",
    "plt.ylim(top=1.2, bottom=0)\n",
    "plt.show()"
   ]
  },
  {
   "cell_type": "code",
   "execution_count": 492,
   "metadata": {},
   "outputs": [
    {
     "data": {
      "image/png": "[encoded data removed]",
      "text/plain": [
       "<Figure size 432x288 with 1 Axes>"
      ]
     },
     "metadata": {
      "needs_background": "light"
     },
     "output_type": "display_data"
    }
   ],
   "source": [
    "plt.plot(hist_3.history['accuracy'])\n",
    "plt.plot(hist_3.history['val_accuracy'])\n",
    "plt.title('Model accuracy')\n",
    "plt.ylabel('Accuracy')\n",
    "plt.xlabel('Epoch')\n",
    "plt.legend(['Train', 'Val'], loc='lower right')\n",
    "plt.show()"
   ]
  },
  {
   "cell_type": "code",
   "execution_count": null,
   "metadata": {},
   "outputs": [],
   "source": []
  }
 ],
 "metadata": {
  "kernelspec": {
   "display_name": "Python 3",
   "language": "python",
   "name": "python3"
  },
  "language_info": {
   "codemirror_mode": {
    "name": "ipython",
    "version": 3
   },
   "file_extension": ".py",
   "mimetype": "text/x-python",
   "name": "python",
   "nbconvert_exporter": "python",
   "pygments_lexer": "ipython3",
   "version": "3.7.9"
  }
 },
 "nbformat": 4,
 "nbformat_minor": 4
}
